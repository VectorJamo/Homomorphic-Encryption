{
 "cells": [
  {
   "cell_type": "code",
   "execution_count": 2,
   "id": "221ba743-685f-4a0c-87eb-9b90bf9d7c99",
   "metadata": {},
   "outputs": [],
   "source": [
    "import base64"
   ]
  },
  {
   "cell_type": "code",
   "execution_count": 3,
   "id": "676dc2e8-152c-4f7d-b32f-3dfd11e497fb",
   "metadata": {},
   "outputs": [],
   "source": [
    "def write_data(file_name, data):\n",
    "    data = base64.b64encode(data)\n",
    "\n",
    "    with open(file_name, 'wb') as f:\n",
    "        f.write(data)"
   ]
  },
  {
   "cell_type": "code",
   "execution_count": 4,
   "id": "56c64ffb-8475-4b74-ae39-4836852d64b9",
   "metadata": {},
   "outputs": [],
   "source": [
    "def read_data(file_name):\n",
    "    with open(file_name, 'rb') as f:\n",
    "        data = f.read()\n",
    "\n",
    "    return base64.b64decode(data)"
   ]
  },
  {
   "cell_type": "code",
   "execution_count": 20,
   "id": "19fad914-8ee5-4cd1-adb5-86a6916e8759",
   "metadata": {},
   "outputs": [],
   "source": [
    "import tenseal as ts"
   ]
  },
  {
   "cell_type": "code",
   "execution_count": 19,
   "id": "8527f521-4701-445a-928a-9a37acecd5c4",
   "metadata": {},
   "outputs": [],
   "source": [
    "context = ts.context_from(read_data('keys/public.txt'))"
   ]
  },
  {
   "cell_type": "code",
   "execution_count": 12,
   "id": "47f7723e-4680-4452-a1dd-1c2495553a45",
   "metadata": {},
   "outputs": [],
   "source": [
    "data_proto = read_data('data/data_encrypted.txt')\n",
    "data_encrypted = ts.lazy_ckks_vector_from(data_proto)\n",
    "data_encrypted.link_context(context)"
   ]
  },
  {
   "cell_type": "code",
   "execution_count": 13,
   "id": "051ab790-3a01-457d-8b0e-63cfbcf0d60d",
   "metadata": {},
   "outputs": [],
   "source": [
    "# Perform calculations on the encrypted data\n",
    "mul_scalar = ts.plain_tensor([1.2])\n",
    "add_scalar = ts.plain_tensor([1000])"
   ]
  },
  {
   "cell_type": "code",
   "execution_count": 14,
   "id": "c6c381f7-3cd8-48fb-a85f-1db415ce66a9",
   "metadata": {},
   "outputs": [],
   "source": [
    "data_encrypted_new = (data_encrypted * mul_scalar) + add_scalar"
   ]
  },
  {
   "cell_type": "code",
   "execution_count": null,
   "id": "54db9391-b204-4711-8450-82782196d28f",
   "metadata": {},
   "outputs": [],
   "source": [
    "# Save the new data\n",
    "write_data('data/data_encr')"
   ]
  }
 ],
 "metadata": {
  "kernelspec": {
   "display_name": "Python 3 (ipykernel)",
   "language": "python",
   "name": "python3"
  },
  "language_info": {
   "codemirror_mode": {
    "name": "ipython",
    "version": 3
   },
   "file_extension": ".py",
   "mimetype": "text/x-python",
   "name": "python",
   "nbconvert_exporter": "python",
   "pygments_lexer": "ipython3",
   "version": "3.13.2"
  }
 },
 "nbformat": 4,
 "nbformat_minor": 5
}
