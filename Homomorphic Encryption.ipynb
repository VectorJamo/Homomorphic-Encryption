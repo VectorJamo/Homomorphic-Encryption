{
 "cells": [
  {
   "cell_type": "code",
   "execution_count": 1,
   "id": "1e4c4fd4-8e48-438b-b3ac-5af13b4d87c2",
   "metadata": {},
   "outputs": [],
   "source": [
    "import base64"
   ]
  },
  {
   "cell_type": "code",
   "execution_count": 2,
   "id": "e4634cf8-0ba1-49e5-9491-15bbf7840e3d",
   "metadata": {},
   "outputs": [],
   "source": [
    "def write_data(file_name, data):\n",
    "    data = base64.b64encode(data)\n",
    "\n",
    "    with open(file_name, 'wb') as f:\n",
    "        f.write(data)"
   ]
  },
  {
   "cell_type": "code",
   "execution_count": 3,
   "id": "fe1d2215-8dec-48dc-bb0a-48d1b47fd74a",
   "metadata": {},
   "outputs": [],
   "source": [
    "def read_data(file_name):\n",
    "    with open(file_name, 'rb') as f:\n",
    "        data = f.read()\n",
    "\n",
    "    return base64.b64decode(data)"
   ]
  },
  {
   "cell_type": "code",
   "execution_count": 4,
   "id": "3c60a60b-7582-4e65-bc6b-644ba7712494",
   "metadata": {},
   "outputs": [],
   "source": [
    "import tenseal as ts"
   ]
  },
  {
   "cell_type": "code",
   "execution_count": 7,
   "id": "2b0ce754-8e4b-4da5-a1ad-eff32cb47edf",
   "metadata": {},
   "outputs": [],
   "source": [
    "# Generate Keys\n",
    "context = ts.context(\n",
    "    ts.SCHEME_TYPE.CKKS,\n",
    "    poly_modulus_degree=8192,\n",
    "    coeff_mod_bit_sizes=[60, 40, 40, 60]\n",
    ")"
   ]
  },
  {
   "cell_type": "code",
   "execution_count": 8,
   "id": "039c8f9a-cd29-4b62-a32f-e927b7556731",
   "metadata": {},
   "outputs": [],
   "source": [
    "context.generate_galois_keys()\n",
    "context.global_scale = 2**40"
   ]
  },
  {
   "cell_type": "code",
   "execution_count": 10,
   "id": "f769192c-fbb1-41a8-8c09-7aa6f2f604ea",
   "metadata": {},
   "outputs": [],
   "source": [
    "secret_context = context.serialize(save_secret_key = True) # Get the private key"
   ]
  },
  {
   "cell_type": "code",
   "execution_count": 12,
   "id": "866f2a21-39e7-49de-afd9-6d8ab1183041",
   "metadata": {},
   "outputs": [],
   "source": [
    "write_data('keys/secret.txt', secret_context) # Store the private key"
   ]
  },
  {
   "cell_type": "code",
   "execution_count": 13,
   "id": "f6772a95-0fa8-4764-9ab3-b3c1630408db",
   "metadata": {},
   "outputs": [],
   "source": [
    "context.make_context_public() # Drop the private key from the context, only keep the public key"
   ]
  },
  {
   "cell_type": "code",
   "execution_count": 14,
   "id": "0164b694-740c-4aad-8e67-a353ed3dfc58",
   "metadata": {},
   "outputs": [],
   "source": [
    "public_context = context.serialize() # Get the public key"
   ]
  },
  {
   "cell_type": "code",
   "execution_count": 15,
   "id": "ffbc4679-77f8-496c-837b-63e576e4d0dc",
   "metadata": {},
   "outputs": [],
   "source": [
    "write_data('keys/public.txt', public_context) # Get the private key"
   ]
  },
  {
   "cell_type": "code",
   "execution_count": 19,
   "id": "b78eec33-dce2-4e1b-a5c3-d258b95579be",
   "metadata": {},
   "outputs": [],
   "source": [
    "# Encrypt messages\n",
    "data = [10000]"
   ]
  },
  {
   "cell_type": "code",
   "execution_count": 18,
   "id": "0fba8374-99a3-4bc1-b330-8e74d2ac8847",
   "metadata": {},
   "outputs": [],
   "source": [
    "# Load the keys\n",
    "context = ts.context_from(read_data('keys/secret.txt'))"
   ]
  },
  {
   "cell_type": "code",
   "execution_count": 20,
   "id": "a4cda954-7f82-4282-b7b6-c167b37e1185",
   "metadata": {},
   "outputs": [],
   "source": [
    "# Encrypt the data\n",
    "data_encrypted = ts.ckks_vector(context, data)"
   ]
  },
  {
   "cell_type": "code",
   "execution_count": 22,
   "id": "866e8e57-c82a-4ec1-aa23-1261cd83fc15",
   "metadata": {},
   "outputs": [],
   "source": [
    "write_data('data/data_encrypted.txt', data_encrypted.serialize())"
   ]
  },
  {
   "cell_type": "code",
   "execution_count": null,
   "id": "3ee70817-445a-4c6b-bd7a-d9501ecd38c2",
   "metadata": {},
   "outputs": [],
   "source": []
  }
 ],
 "metadata": {
  "kernelspec": {
   "display_name": "Python 3 (ipykernel)",
   "language": "python",
   "name": "python3"
  },
  "language_info": {
   "codemirror_mode": {
    "name": "ipython",
    "version": 3
   },
   "file_extension": ".py",
   "mimetype": "text/x-python",
   "name": "python",
   "nbconvert_exporter": "python",
   "pygments_lexer": "ipython3",
   "version": "3.13.2"
  }
 },
 "nbformat": 4,
 "nbformat_minor": 5
}
